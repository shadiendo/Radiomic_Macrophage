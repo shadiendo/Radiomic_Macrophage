{
 "cells": [
  {
   "cell_type": "code",
   "execution_count": null,
   "metadata": {},
   "outputs": [],
   "source": [
    "import numpy as np\n",
    "import pandas as pd"
   ]
  },
  {
   "cell_type": "markdown",
   "metadata": {},
   "source": [
    "# 读取影像组学数据"
   ]
  },
  {
   "cell_type": "code",
   "execution_count": null,
   "metadata": {
    "scrolled": false
   },
   "outputs": [],
   "source": [
    "open_pathA1 = r'JSPH1.csv'\n",
    "open_pathA2 = r'RBRT1.csv'\n",
    "open_pathA3 = r'tcgaGbm1.csv'\n",
    "open_pathA4 = r'tcgaLgg1.csv'\n",
    "df_A1 = pd.read_csv(open_pathA1,index_col=None)\n",
    "df_A2 = pd.read_csv(open_pathA2,index_col=None)\n",
    "df_A3 = pd.read_csv(open_pathA3,index_col=None)\n",
    "df_A4 = pd.read_csv(open_pathA4,index_col=None)\n",
    "\n",
    "open_pathB1 = r'JSPH2.csv'\n",
    "open_pathB2 = r'RBRT2.csv'\n",
    "open_pathB3 = r'tcgaGbm2.csv'\n",
    "open_pathB4 = r'tcgaLgg2.csv'\n",
    "df_B1 = pd.read_csv(open_pathB1,index_col=None)\n",
    "df_B2 = pd.read_csv(open_pathB2,index_col=None)\n",
    "df_B3 = pd.read_csv(open_pathB3,index_col=None)\n",
    "df_B4 = pd.read_csv(open_pathB4,index_col=None)\n",
    "\n",
    "print(df_A1.shape,df_A2.shape,df_A3.shape,df_A4.shape)\n",
    "print(df_B1.shape,df_B2.shape,df_B3.shape,df_B4.shape)"
   ]
  },
  {
   "cell_type": "markdown",
   "metadata": {},
   "source": [
    "# 选择哪些病人"
   ]
  },
  {
   "cell_type": "code",
   "execution_count": null,
   "metadata": {
    "scrolled": true
   },
   "outputs": [],
   "source": [
    "open_pat1 = r'../分组/jsph_gbm.txt'\n",
    "open_pat2 = r'../分组/jsph_lgg.txt'\n",
    "open_pat3 = r'../分组/TEST_jsph_gbm.txt'\n",
    "open_pat4 = r'../分组/TEST_jsph_lgg.txt'\n",
    "open_pat5 = r'../分组/rbrt_gbm.txt'\n",
    "open_pat6 = r'../分组/rbrt_lgg.txt'\n",
    "open_pat7 = r'../分组/tcga_gbm.txt'\n",
    "open_pat8 = r'../分组/tcga_lgg.txt'\n",
    "\n",
    "pat1 = set(pd.read_table(open_pat1,index_col=None,header=None)[0].tolist())\n",
    "pat2 = set(pd.read_table(open_pat2,index_col=None,header=None)[0].tolist())\n",
    "pat3 = set(pd.read_table(open_pat3,index_col=None,header=None)[0].tolist())\n",
    "pat4 = set(pd.read_table(open_pat4,index_col=None,header=None)[0].tolist())\n",
    "pat5 = set(pd.read_table(open_pat5,index_col=None,header=None)[0].tolist())\n",
    "pat6 = set(pd.read_table(open_pat6,index_col=None,header=None)[0].tolist())\n",
    "pat7 = set(pd.read_table(open_pat7,index_col=None,header=None)[0].tolist())\n",
    "pat8 = set(pd.read_table(open_pat8,index_col=None,header=None)[0].tolist())\n",
    "\n",
    "list_pat = list(pat1|pat2|pat3|pat4|pat5|pat6|pat7|pat8)\n",
    "\n",
    "print(len(pat1),len(pat2),len(pat3),len(pat4),len(pat5),len(pat6),len(pat7),len(pat8))\n",
    "print(len(list_pat))\n",
    "\n",
    "list_pat"
   ]
  },
  {
   "cell_type": "markdown",
   "metadata": {},
   "source": [
    "# 合并"
   ]
  },
  {
   "cell_type": "code",
   "execution_count": null,
   "metadata": {
    "scrolled": true
   },
   "outputs": [],
   "source": [
    "def concatAndSelect(df_list,pat_list,save_name):\n",
    "    df_concat = pd.concat(df_list).set_index(keys='Subject')\n",
    "    print(df_concat.shape)\n",
    "    \n",
    "    df_final = df_concat.T[pat_list].T\n",
    "    print(f'筛选后的维度：{df_final.shape}')\n",
    "    \n",
    "    df_final.to_csv(save_name, index=True)\n",
    "    print(f'已经保存为【{save_name}】')\n",
    "    \n",
    "    return(df_final)"
   ]
  },
  {
   "cell_type": "code",
   "execution_count": null,
   "metadata": {
    "scrolled": true
   },
   "outputs": [],
   "source": [
    "concatAndSelect([df_A1,df_A2,df_A3,df_A4],list_pat,'→TRJ_readerA.csv')"
   ]
  },
  {
   "cell_type": "code",
   "execution_count": null,
   "metadata": {},
   "outputs": [],
   "source": [
    "concatAndSelect([df_B1,df_B2,df_B3,df_B4],list_pat,'→TRJ_readerB.csv')"
   ]
  }
 ],
 "metadata": {
  "kernelspec": {
   "display_name": "Python 3",
   "language": "python",
   "name": "python3"
  },
  "language_info": {
   "codemirror_mode": {
    "name": "ipython",
    "version": 3
   },
   "file_extension": ".py",
   "mimetype": "text/x-python",
   "name": "python",
   "nbconvert_exporter": "python",
   "pygments_lexer": "ipython3",
   "version": "3.7.6"
  }
 },
 "nbformat": 4,
 "nbformat_minor": 4
}
