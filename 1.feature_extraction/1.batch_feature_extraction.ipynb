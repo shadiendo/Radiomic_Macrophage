{
 "cells": [
  {
   "cell_type": "code",
   "execution_count": null,
   "metadata": {
    "scrolled": true
   },
   "outputs": [],
   "source": [
    "def aimPath(patName_ord,reader_root,sequence,reader_ROI):\n",
    "#     reader_root = Level_3_path\n",
    "#     sequence = 't1ce_N4_Zscored.nii.gz'\n",
    "#     reader_ROI = 'Segmentation-1stSketch-label.nii.gz'\n",
    "\n",
    "    # 获取所有第二级目录下的目标文件\n",
    "    label_file_path_list = []\n",
    "    for i in reader_root:\n",
    "        pat_name = i.split('\\\\')[patName_ord]   # 被试名在哪个层级\n",
    "        sequence_path = os.path.join(i,sequence)    # 以哪个序列为底\n",
    "        label_path =os.path.join(i,reader_ROI)   # ROI文件\n",
    "\n",
    "        if os.path.exists(label_path) and os.path.exists(sequence_path):\n",
    "            label_file_path_list.append([pat_name,sequence_path,label_path])\n",
    "        else:\n",
    "            print('无目标',i)\n",
    "\n",
    "    print(len(label_file_path_list))\n",
    "\n",
    "    for i in label_file_path_list:\n",
    "        print('---------------------------------------------------------------------')\n",
    "        print(i)\n",
    "        \n",
    "    return(label_file_path_list)"
   ]
  },
  {
   "cell_type": "code",
   "execution_count": null,
   "metadata": {},
   "outputs": [],
   "source": [
    "def radiomics_feature_extraction(input_list,save_name):\n",
    "    # -------------------------------------------------------------\n",
    "    # 提取特征前定义提取器\n",
    "    settings = {}\n",
    "    settings['binWidth'] = 25  # 25\n",
    "    settings['sigma'] = [3, 5]\n",
    "\n",
    "    # 标准化\n",
    "    settings['normalize'] = True\n",
    "    settings['normalizeScale'] = 100\n",
    "\n",
    "    # 重采样\n",
    "    settings['resampledPixelSpacing'] = [1,1,1]\n",
    "    settings['interpolator'] = sitk.sitkBSpline\n",
    "\n",
    "    extractor = featureextractor.RadiomicsFeatureExtractor()\n",
    "    extractor = featureextractor.RadiomicsFeatureExtractor(**settings)\n",
    "    extractor.enableAllImageTypes()\n",
    "    extractor.enableAllFeatures()\n",
    "    \n",
    "    # parameter force2D must be set to True to enable shape2D extraction\n",
    "    # settings['force2D'] = True\n",
    "    \n",
    "    # ## 其他滤波\n",
    "    # extractor.enableImageTypeByName('LoG')\n",
    "    # extractor.enableImageTypeByName('Wavelet')\n",
    "    # # # 文献里的手动加入的影像组学因子\n",
    "    # extractor.enableFeaturesByName(firstorder=['Energy', 'TotalEnergy', 'Entropy', 'Minimum', '10Percentile', '90Percentile', 'Maximum', 'Mean', 'Median', 'InterquartileRange', 'Range', 'MeanAbsoluteDeviation', 'RobustMeanAbsoluteDeviation', 'RootMeanSquared', 'Skewness', 'Kurtosis', 'Variance', 'Uniformity'])\n",
    "    # extractor.enableFeaturesByName(shape=['VoxelVolume', 'MeshVolume', 'SurfaceArea', 'SurfaceVolumeRatio', 'Sphericity','Maximum3DDiameter','Maximum2DDiameterSlice','Maximum2DDiameterColumn','Maximum2DDiameterRow', 'MajorAxisLength', 'MinorAxisLength', 'LeastAxisLength', 'Elongation', 'Flatness'])\n",
    "\n",
    "\n",
    "    error_fileFolder = []\n",
    "    df = pd.DataFrame()\n",
    "\n",
    "    for i in tqdm(range(len(input_list))):     # tqdm是 展示进度的tqdm库,外面只是嵌套了一下,不影响程序运行\n",
    "        print(f\"运行【{input_list[i][0]}】\")\n",
    "\n",
    "        try:\n",
    "            featureVector = extractor.execute(input_list[i][1], input_list[i][2])\n",
    "\n",
    "            # 添加自定义的内容\n",
    "            NameDict = {'Subject':input_list[i][0]}\n",
    "            featureVector.update(NameDict)\n",
    "\n",
    "            df_add = pd.DataFrame.from_dict(featureVector.values()).T\n",
    "            df_add.columns = featureVector.keys()\n",
    "            df = pd.concat([df, df_add])\n",
    "\n",
    "        except:\n",
    "            error_fileFolder.append(input_list[i][0])\n",
    "\n",
    "\n",
    "        # 进度条展示的时间暂停\n",
    "        sleep(0.02)\n",
    "    \n",
    "    print('███████████████████████████████████')\n",
    "    print('已经完成')\n",
    "    df.to_csv(os.path.join(root_path,save_name))\n",
    "    \n",
    "    \n",
    "    print('报错文件夹位置：\\n')\n",
    "    print(error_fileFolder)"
   ]
  },
  {
   "cell_type": "code",
   "execution_count": null,
   "metadata": {},
   "outputs": [],
   "source": [
    "import os\n",
    "import pandas as pd\n",
    "from time import sleep\n",
    "import SimpleITK as sitk\n",
    "from radiomics import featureextractor\n",
    "\n",
    "from tqdm import tqdm\n",
    "# from tqdm.notebook import tqdm  # jupyter 特供"
   ]
  },
  {
   "cell_type": "markdown",
   "metadata": {},
   "source": [
    "# 获取所有待转换文件，并且标记 被试名\n",
    "格式为：[('TCGA-CS-539','xxx t2文件的完整路径',xxx label文件的完整路径'),(),()]"
   ]
  },
  {
   "cell_type": "code",
   "execution_count": null,
   "metadata": {
    "scrolled": true
   },
   "outputs": [],
   "source": [
    "# 获取真正的根目录\n",
    "root_path = r'D:\\mysubject\\Seg_jsph'\n",
    "\n",
    "# 获取根目录下所有文件夹\n",
    "Level_1_name = next(os.walk(root_path))[1]\n",
    "Level_1_path = [root_path+os.sep+i for i in Level_1_name]\n",
    "\n",
    "# ████████████████████████████\n",
    "# 下一级目录\n",
    "Level_2_name = []   # 第二级目录的文件名\n",
    "Level_2_path = []   # 第二级目录的文件目录名\n",
    "for i in Level_1_path:\n",
    "    tem = next(os.walk(i))[1]\n",
    "    # print(f'{i}\\n各第二级目录下文件/文件夹为：{tem}\\n')\n",
    "    Level_2_name.append(tem)\n",
    "\n",
    "    for j in tem:\n",
    "        Level_2_path.append(i+os.sep+j)\n",
    "\n",
    "# 所有第二级目录为\n",
    "print(f'第二级目录个数：{len(Level_2_path)}')\n",
    "Level_2_path\n",
    "\n",
    "# ████████████████████████████\n",
    "# 再进一层\n",
    "Level_3_path = []\n",
    "for i in Level_2_path:\n",
    "    tem = next(os.walk(i))[1]\n",
    "    Level_3_folder = i+os.sep+tem[0]\n",
    "    Level_3_path.append(Level_3_folder)\n",
    "\n",
    "# 所有第三级目录为\n",
    "print(f'第三级目录个数：{len(Level_3_path)}')\n",
    "Level_3_path"
   ]
  },
  {
   "cell_type": "code",
   "execution_count": null,
   "metadata": {},
   "outputs": [],
   "source": [
    "# 第一个勾画\n",
    "readerA_ROI_segmentation = 'Segmentation-1stSketch-label.nii.gz'\n",
    "readerA = aimPath(-3,\n",
    "                  Level_3_path,\n",
    "                  't2_N4-WSed.nii.gz',\n",
    "                  readerA_ROI_segmentation)"
   ]
  },
  {
   "cell_type": "code",
   "execution_count": null,
   "metadata": {},
   "outputs": [],
   "source": [
    "# 第二个勾画\n",
    "readerB_ROI_segmentation = 'Segmentation-2ndSketch-label.nii.gz'\n",
    "readerB = aimPath(-3,\n",
    "                  Level_3_path,\n",
    "                  't2_N4-WSed.nii.gz',\n",
    "                  readerB_ROI_segmentation)"
   ]
  },
  {
   "cell_type": "markdown",
   "metadata": {},
   "source": [
    "# 特征提取"
   ]
  },
  {
   "cell_type": "code",
   "execution_count": null,
   "metadata": {},
   "outputs": [],
   "source": [
    "# # 试水一个\n",
    "# readerA = readerA[:2]\n",
    "# # readerA"
   ]
  },
  {
   "cell_type": "code",
   "execution_count": null,
   "metadata": {
    "scrolled": true
   },
   "outputs": [],
   "source": [
    "radiomics_feature_extraction(readerA,'JSPH1.csv')"
   ]
  },
  {
   "cell_type": "code",
   "execution_count": null,
   "metadata": {},
   "outputs": [],
   "source": [
    "radiomics_feature_extraction(readerB,'JSPH2.csv')"
   ]
  }
 ],
 "metadata": {
  "kernelspec": {
   "display_name": "Python 3",
   "language": "python",
   "name": "python3"
  },
  "language_info": {
   "codemirror_mode": {
    "name": "ipython",
    "version": 3
   },
   "file_extension": ".py",
   "mimetype": "text/x-python",
   "name": "python",
   "nbconvert_exporter": "python",
   "pygments_lexer": "ipython3",
   "version": "3.7.6"
  }
 },
 "nbformat": 4,
 "nbformat_minor": 1
}
