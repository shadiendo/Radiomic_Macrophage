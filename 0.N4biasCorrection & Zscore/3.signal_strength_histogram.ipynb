{
 "cells": [
  {
   "cell_type": "code",
   "execution_count": null,
   "metadata": {},
   "outputs": [],
   "source": [
    "# 返回间隔\n",
    "def every_nth(lst, nth):\n",
    "    return lst[nth - 1::nth]\n",
    "\n",
    "# 导出每个MR的直方数据\n",
    "def histOfeachPat(img_path,step):\n",
    "    sitk_img = sitk.ReadImage(img_path)\n",
    "    img = sitk.GetArrayFromImage(sitk_img).flatten()  # 转为一维数据\n",
    "    img = np.sort(img)  # 排序\n",
    "    \n",
    "    img = img[img>np.min(img)]  # 删除最小值，如果最小值是0，那就删除\n",
    "    \n",
    "    ret = every_nth(img, step)\n",
    "    return ret\n",
    "    \n",
    "# img_path = r'J:\\NeuroSurgery Data\\Public database\\WellArrangedData\\REMBRANDT\\segmentation\\900-00-5332\\2005-05-31\\t2_N4_Zscored.nii.gz'\n",
    "# histOfeachPat(img_path,1)"
   ]
  },
  {
   "cell_type": "code",
   "execution_count": null,
   "metadata": {},
   "outputs": [],
   "source": [
    "import SimpleITK as sitk\n",
    "import numpy as np\n",
    "import pandas as pd\n",
    "import os"
   ]
  },
  {
   "cell_type": "markdown",
   "metadata": {},
   "source": [
    "# 函数加载"
   ]
  },
  {
   "cell_type": "code",
   "execution_count": null,
   "metadata": {
    "scrolled": true
   },
   "outputs": [],
   "source": [
    "# 获取真正的根目录\n",
    "root_path = r'D:\\mysubject\\Seg_jsph'\n",
    "\n",
    "# 获取根目录下所有文件夹\n",
    "Level_1_name = next(os.walk(root_path))[1]\n",
    "# Level_1_path = [root_path+os.sep+i for i in Level_1_name]\n",
    "Level_1_path = [root_path+os.sep+i+os.sep+\"MR\" for i in Level_1_name]\n",
    "\n",
    "# 下一级目录\n",
    "Level_2_name = []   # 第二级目录的文件名\n",
    "Level_2_path = []   # 第二级目录的文件目录名\n",
    "for i in Level_1_path:\n",
    "    tem = next(os.walk(i))[1]\n",
    "    # print(f'{i}\\n各第二级目录下文件/文件夹为：{tem}\\n')\n",
    "    Level_2_name.append(tem)\n",
    "\n",
    "    for j in tem:\n",
    "        Level_2_path.append(i+os.sep+j)\n",
    "\n",
    "# 所有第二级目录为\n",
    "print(f'【目标目录有{len(Level_2_path)}个文件夹】')\n",
    "\n",
    "\n",
    "# 获取二级目录下的目标文件\n",
    "aim_file_list = []\n",
    "allCanBeFind = True\n",
    "for i in Level_2_path:\n",
    "    aim_path = os.path.join(i,'t2_N4-WSed.nii.gz')\n",
    "    if os.path.exists(aim_path):\n",
    "        aim_file_list.append(aim_path)\n",
    "    else:\n",
    "        print(f'找不到：{aim_path}')\n",
    "        allCanBeFind = False\n",
    "if allCanBeFind:\n",
    "    print(f'【目标文件全部存在，个数{len(aim_file_list)}个】')\n",
    "    \n",
    "aim_file_list"
   ]
  },
  {
   "cell_type": "code",
   "execution_count": null,
   "metadata": {
    "scrolled": true
   },
   "outputs": [],
   "source": [
    "df_data_list = []\n",
    "df_name_list = []\n",
    "for i in aim_file_list[:]:\n",
    "    patName = i.split('\\\\')[-3]\n",
    "    # print(patName)\n",
    "    df_name_list.append(patName)\n",
    "    \n",
    "    ret = histOfeachPat(i,500)\n",
    "    df_data_list.append(ret)\n",
    "\n",
    "outPut_data = pd.DataFrame(df_data_list,index=df_name_list).T"
   ]
  },
  {
   "cell_type": "code",
   "execution_count": null,
   "metadata": {},
   "outputs": [],
   "source": [
    "# outPut_data.to_csv('→直方图数据-N4.csv')\n",
    "# outPut_data.to_csv('→直方图数据-N4-Zscored.csv')\n",
    "outPut_data.to_csv('→直方图数据-N4-WSed.csv')"
   ]
  }
 ],
 "metadata": {
  "kernelspec": {
   "display_name": "Python 3",
   "language": "python",
   "name": "python3"
  },
  "language_info": {
   "codemirror_mode": {
    "name": "ipython",
    "version": 3
   },
   "file_extension": ".py",
   "mimetype": "text/x-python",
   "name": "python",
   "nbconvert_exporter": "python",
   "pygments_lexer": "ipython3",
   "version": "3.7.6"
  }
 },
 "nbformat": 4,
 "nbformat_minor": 4
}
