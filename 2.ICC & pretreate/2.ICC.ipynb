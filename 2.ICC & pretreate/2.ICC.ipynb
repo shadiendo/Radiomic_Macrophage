{
 "cells": [
  {
   "cell_type": "code",
   "execution_count": null,
   "metadata": {},
   "outputs": [],
   "source": [
    "import pingouin as pg      # 安装一下“企鹅”包\n",
    "import numpy as np\n",
    "import pandas as pd"
   ]
  },
  {
   "cell_type": "code",
   "execution_count": null,
   "metadata": {},
   "outputs": [],
   "source": [
    "# http://t.csdn.cn/Nta4G\n",
    "'''\n",
    "ICC的值介于0~1之间：\n",
    "   小于0.5表示一致性较差；\n",
    "   0.5~0.75一致性中等；\n",
    "   0.75~0.9一致性较好；\n",
    "   大于0.9一致性极好；\n",
    "\n",
    "【1】模型有三种：\n",
    "  单向随机效应：1-way random effects\n",
    "  双向随机效应：2-way random effects:可靠性结果可推广\n",
    "  双向混合效应：2-way fixed effects:可靠性结果不可推广\n",
    "\n",
    "【2】类型有两种：这种选择取决于在实际应用中将如何执行测量方案:\n",
    "如果我们计划使用3个评分者的 ★平均值★ 作为评估依据，则可靠性研究的实验设计应包括3个评分者，并选择类型:\n",
    "    the mean of k raters/measurements。\n",
    "如果我们打算使用单一评分者的测量作为实际测量的依据，那么即使可靠性实验涉及到2个或2个以上的评分者，也应该选择类型：\n",
    "    single rater/ measurement。\n",
    "   \n",
    "'''"
   ]
  },
  {
   "cell_type": "markdown",
   "metadata": {},
   "source": [
    "# 测试pingouin包的ICC使用"
   ]
  },
  {
   "cell_type": "code",
   "execution_count": null,
   "metadata": {
    "scrolled": true
   },
   "outputs": [],
   "source": [
    "# 打开测试数据\n",
    "data = pg.read_dataset('icc')\n",
    "data"
   ]
  },
  {
   "cell_type": "code",
   "execution_count": null,
   "metadata": {},
   "outputs": [],
   "source": [
    "# 使用\n",
    "icc = pg.intraclass_corr(data = data,targets='Wine',raters='Judge',ratings='Scores')\n",
    "icc\n",
    "\n",
    "# ICC1：单向随机\n",
    "# ICC1k：单向随机 多个评分者\n",
    "\n",
    "# ICC2：双向随机\n",
    "# ICC2k：双向随机 多个评分者\n",
    "\n",
    "# ICC3：双向混合\n",
    "# ICC3k：双向混合 多个评分者"
   ]
  },
  {
   "cell_type": "markdown",
   "metadata": {},
   "source": [
    "# 打开自己的数据"
   ]
  },
  {
   "cell_type": "code",
   "execution_count": null,
   "metadata": {
    "scrolled": true
   },
   "outputs": [],
   "source": [
    "# 读取数据\n",
    "open_pathA = r'→→TRJ_readerA_dup0.75.csv'\n",
    "open_pathB = r'→→TRJ_readerB_dup0.75.csv'\n",
    "\n",
    "df_A = pd.read_csv(open_pathA,index_col=0)\n",
    "df_B = pd.read_csv(open_pathB,index_col=0)\n",
    "\n",
    "df_A"
   ]
  },
  {
   "cell_type": "markdown",
   "metadata": {},
   "source": [
    "# 拿一个特征练手"
   ]
  },
  {
   "cell_type": "code",
   "execution_count": null,
   "metadata": {},
   "outputs": [],
   "source": [
    "# 拿一个特征练手\n",
    "features_demo = df_A.columns[0]\n",
    "print(f'示例特征为{features_demo}')\n",
    "\n",
    "df_featuresDemo_list  = []  # 存储 一个特征(featuresDemo)的数据框列表\n",
    "df_list = [df_A,df_B]\n",
    "for i in range(len(df_list)):\n",
    "    df = df_list[i]\n",
    "    # 在该Reader的df中加一列“Reader”\n",
    "    df_demo = pd.DataFrame(data={\n",
    "        'Pat':df[features_demo].index,\n",
    "        'Reader':['Reader'+str(i)]*len(df[features_demo].index),\n",
    "        'Values':df[features_demo].values})\n",
    "    df_featuresDemo_list.append(df_demo)\n",
    "    \n",
    "df_featuresDemo = pd.concat(df_featuresDemo_list,ignore_index=True)  # 忽略掉原来的索引\n",
    "df_featuresDemo"
   ]
  },
  {
   "cell_type": "code",
   "execution_count": null,
   "metadata": {},
   "outputs": [],
   "source": [
    "icc = pg.intraclass_corr(data = df_featuresDemo,targets='Pat',raters='Reader',ratings='Values')\n",
    "icc = icc.set_index('Type')\n",
    "icc"
   ]
  },
  {
   "cell_type": "code",
   "execution_count": null,
   "metadata": {},
   "outputs": [],
   "source": [
    "TypeNeed = 'ICC1'\n",
    "ICC_value = icc.loc[TypeNeed,'ICC']\n",
    "pval_value = icc.loc[TypeNeed,'pval']\n",
    "\n",
    "df_feature_ICCstatus = pd.DataFrame(data={\n",
    "    'Feature':[features_demo],\n",
    "    'ICC':[ICC_value],\n",
    "    'pval':[pval_value]\n",
    "})\n",
    "df_feature_ICCstatus"
   ]
  },
  {
   "cell_type": "markdown",
   "metadata": {},
   "source": [
    "# 处理所有特征"
   ]
  },
  {
   "cell_type": "code",
   "execution_count": null,
   "metadata": {
    "scrolled": true
   },
   "outputs": [],
   "source": [
    "# 设置待处理类型\n",
    "ret_dict = {'ICC1':[],'ICC2':[],'ICC3':[],'ICC1k':[],'ICC2k':[],'ICC3k':[]}\n",
    "\n",
    "# 设置特征列表\n",
    "# features = df_A.columns.tolist()[:2]  # 只取两个看看效果\n",
    "features = df_A.columns.tolist()\n",
    "\n",
    "for i in range(len(features)):\n",
    "    fetre = features[i]\n",
    "    print(f'进度{round(i/len(features)*100,2)}%,处理特征为{fetre}')\n",
    "\n",
    "    df_fetreDemo_list  = []  # 存储 一个特征(featuresDemo)的数据框列表\n",
    "    df_list = [df_A,df_B]\n",
    "    for i in range(len(df_list)):\n",
    "        df = df_list[i]\n",
    "        # 在该Reader的df中加一列“Reader”\n",
    "        df_demo = pd.DataFrame(data={\n",
    "            'Pat':df[fetre].index,\n",
    "            'Reader':['Reader'+str(i)]*len(df[fetre].index),\n",
    "            'Values':df[fetre].values})\n",
    "        df_fetreDemo_list.append(df_demo)\n",
    "\n",
    "    df_fetreDemo = pd.concat(df_fetreDemo_list,ignore_index=True)  # 忽略掉原来的索引\n",
    "    \n",
    "    \n",
    "    # 计算ICC系数\n",
    "    icc_ret = pg.intraclass_corr(data = df_fetreDemo,targets='Pat',raters='Reader',ratings='Values')\n",
    "    icc_ret = icc_ret.set_index('Type')\n",
    "    \n",
    "    # 取icc_ret中各类型，如ICC1，ICC2，ICC3...的值\n",
    "    for key,value in ret_dict.items():\n",
    "        TypeNeed = key    \n",
    "        ICC_value = icc_ret.loc[TypeNeed,'ICC']\n",
    "        pval_value = icc_ret.loc[TypeNeed,'pval']\n",
    "\n",
    "        df_feature_ICCstatus = pd.DataFrame(data={\n",
    "            'Feature':[fetre],\n",
    "            'ICC':[ICC_value],\n",
    "            'pval':[pval_value]\n",
    "        })\n",
    "        value.append(df_feature_ICCstatus)\n",
    "\n",
    "for key,value in ret_dict.items():\n",
    "    TypeNeed = key   \n",
    "    # 将ret_dict内的字典形式变成数据框\n",
    "    ret_dict[TypeNeed] = pd.concat(ret_dict[TypeNeed],ignore_index=True)"
   ]
  },
  {
   "cell_type": "code",
   "execution_count": null,
   "metadata": {},
   "outputs": [],
   "source": [
    "ret_dict['ICC1']"
   ]
  },
  {
   "cell_type": "markdown",
   "metadata": {},
   "source": [
    "# 保存"
   ]
  },
  {
   "cell_type": "code",
   "execution_count": null,
   "metadata": {},
   "outputs": [],
   "source": [
    "\n",
    "# ret_dict['ICC2k'].to_csv(\"icc2K.csv\")"
   ]
  },
  {
   "cell_type": "code",
   "execution_count": null,
   "metadata": {},
   "outputs": [],
   "source": [
    "save_name = \"→→→ICC结果.xlsx\"\n",
    "with pd.ExcelWriter(save_name) as xlsx:\n",
    "    for type_need,df_ret in ret_dict.items():\n",
    "        df_ret.to_excel(xlsx, sheet_name=type_need)"
   ]
  }
 ],
 "metadata": {
  "kernelspec": {
   "display_name": "Python 3",
   "language": "python",
   "name": "python3"
  },
  "language_info": {
   "codemirror_mode": {
    "name": "ipython",
    "version": 3
   },
   "file_extension": ".py",
   "mimetype": "text/x-python",
   "name": "python",
   "nbconvert_exporter": "python",
   "pygments_lexer": "ipython3",
   "version": "3.7.6"
  }
 },
 "nbformat": 4,
 "nbformat_minor": 4
}
