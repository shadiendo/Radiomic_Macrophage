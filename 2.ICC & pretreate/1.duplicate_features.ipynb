{
 "cells": [
  {
   "cell_type": "code",
   "execution_count": null,
   "metadata": {
    "pycharm": {
     "is_executing": true
    }
   },
   "outputs": [],
   "source": [
    "import pandas as pd\n",
    "import numpy as np"
   ]
  },
  {
   "cell_type": "markdown",
   "metadata": {},
   "source": [
    "# 读数据"
   ]
  },
  {
   "cell_type": "code",
   "execution_count": null,
   "metadata": {},
   "outputs": [],
   "source": [
    "# 读取数据\n",
    "open_pathA = r'→TRJ_readerA.csv'\n",
    "open_pathB = r'→TRJ_readerB.csv'\n",
    "\n",
    "df_A = pd.read_csv(open_pathA,index_col=0)\n",
    "df_B = pd.read_csv(open_pathB,index_col=0)\n",
    "\n",
    "print(f'删除前俩表维度情况'+str(df_A.shape)+str(df_B.shape))"
   ]
  },
  {
   "cell_type": "code",
   "execution_count": null,
   "metadata": {
    "scrolled": true
   },
   "outputs": [],
   "source": [
    "df_A"
   ]
  },
  {
   "cell_type": "markdown",
   "metadata": {},
   "source": [
    "# 选出重复特征 保存成txt"
   ]
  },
  {
   "cell_type": "code",
   "execution_count": null,
   "metadata": {},
   "outputs": [],
   "source": [
    "duplicate_history = []\n",
    "\n",
    "df_tmp = df_A.copy(deep=True)"
   ]
  },
  {
   "cell_type": "code",
   "execution_count": null,
   "metadata": {
    "scrolled": true
   },
   "outputs": [],
   "source": [
    "# 单个变量重复\n",
    "print(f'{df_tmp.shape[1]}条数据中，离散变量某类别数量')\n",
    "threshold_duplicate = 0.75\n",
    "duplicate_col = []  # 存储需要删除的列\n",
    "\n",
    "duplicate_condition_col = []\n",
    "for col in df_tmp.columns:\n",
    "    max_num = df_tmp[col].value_counts()  # 单个类别每一类的数量\n",
    "    num_ratio = max_num.max() / max_num.sum()  # 最多类别占总数的比例\n",
    "    duplicate_condition_col.append(num_ratio)\n",
    "    if num_ratio > threshold_duplicate:\n",
    "        duplicate_col.append(col)\n",
    "duplicate_condition = pd.DataFrame(duplicate_condition_col).set_index(df_tmp.columns)\n",
    "duplicate_condition.columns = ['单特征最高占比']\n",
    "\n",
    "print(f'   待删除的列{duplicate_col}有{len(duplicate_col)}个')\n",
    "\n",
    "duplicate_condition = duplicate_condition.sort_values(by=\"单特征最高占比\",ascending=False)\n",
    "duplicate_condition.iloc[1:20,:]"
   ]
  },
  {
   "cell_type": "code",
   "execution_count": null,
   "metadata": {
    "scrolled": true
   },
   "outputs": [],
   "source": [
    "# # # 手动增加,删除一些\n",
    "# duplicate_col.append('lbp-3D-m2_firstorder_Maximum')\n",
    "# duplicate_col.append('lbp-3D-m2_firstorder_Range')\n",
    "\n",
    "# 删除指定列\n",
    "df_tmp.drop(columns=duplicate_col, inplace=True)      # inplace 要不要在原数据上操作\n",
    "duplicate_history.append(duplicate_col)  # 将删除记录加进历史\n",
    "print(\"已删除满足条件的列，并且放进历史中:\", duplicate_col)\n",
    "duplicate_col=[]\n"
   ]
  },
  {
   "cell_type": "code",
   "execution_count": null,
   "metadata": {},
   "outputs": [],
   "source": [
    "len(duplicate_history)"
   ]
  },
  {
   "cell_type": "code",
   "execution_count": null,
   "metadata": {},
   "outputs": [],
   "source": [
    "# 保存上述删掉的特征\n",
    "duplicate_history_set = []\n",
    "for i in duplicate_history:\n",
    "    for j in i:\n",
    "        duplicate_history_set.append(j)\n",
    "duplicate_history_set = list(set(duplicate_history_set))"
   ]
  },
  {
   "cell_type": "code",
   "execution_count": null,
   "metadata": {},
   "outputs": [],
   "source": [
    "df_duplicate_history = pd.DataFrame(data={'Feature':duplicate_history_set})\n",
    "df_duplicate_history.to_csv('→特征重复删除.txt',sep=' ', index=False,header=False)\n",
    "print(f'共删掉了{len(duplicate_history_set)}个特征，已保存到【→特征重复删除.txt】')\n",
    "\n",
    "df_duplicate_history"
   ]
  },
  {
   "cell_type": "markdown",
   "metadata": {},
   "source": [
    "# 保存"
   ]
  },
  {
   "cell_type": "code",
   "execution_count": null,
   "metadata": {},
   "outputs": [],
   "source": [
    "list_duplicate = pd.read_table('→特征重复删除.txt',index_col=None,header=None)[0].tolist()\n",
    "print(len(list_duplicate))\n",
    "list_duplicate"
   ]
  },
  {
   "cell_type": "code",
   "execution_count": null,
   "metadata": {},
   "outputs": [],
   "source": [
    "def saveRet(df_demo,list_duplicate,save_name):\n",
    "    print(f'原始维度的特征为{df_demo.shape}，要删除{len(list_duplicate)}个，期待保留{df_demo.shape[1]-len(list_duplicate)}个')\n",
    "    list_selectedFeature = list(set(df_demo.columns.tolist()) - set(list_duplicate))\n",
    "    \n",
    "    df_demo = df_demo[list_selectedFeature]\n",
    "    print(f'筛选后{df_demo.shape}')\n",
    "    \n",
    "    df_demo.to_csv(save_name, index=True)\n",
    "    print(f'已经保存到{save_name}')"
   ]
  },
  {
   "cell_type": "code",
   "execution_count": null,
   "metadata": {},
   "outputs": [],
   "source": [
    "saveRet(df_A,list_duplicate,'→'+open_pathA[:-4]+'_dup'+str(threshold_duplicate)+'.csv')"
   ]
  },
  {
   "cell_type": "code",
   "execution_count": null,
   "metadata": {},
   "outputs": [],
   "source": [
    "saveRet(df_B,list_duplicate,'→'+open_pathB[:-4]+'_dup'+str(threshold_duplicate)+'.csv')"
   ]
  }
 ],
 "metadata": {
  "kernelspec": {
   "display_name": "Python 3",
   "language": "python",
   "name": "python3"
  },
  "language_info": {
   "codemirror_mode": {
    "name": "ipython",
    "version": 3
   },
   "file_extension": ".py",
   "mimetype": "text/x-python",
   "name": "python",
   "nbconvert_exporter": "python",
   "pygments_lexer": "ipython3",
   "version": "3.7.6"
  },
  "toc": {
   "base_numbering": 1,
   "nav_menu": {},
   "number_sections": true,
   "sideBar": true,
   "skip_h1_title": false,
   "title_cell": "Table of Contents",
   "title_sidebar": "Contents",
   "toc_cell": false,
   "toc_position": {
    "height": "calc(100% - 180px)",
    "left": "10px",
    "top": "150px",
    "width": "260.039px"
   },
   "toc_section_display": true,
   "toc_window_display": true
  }
 },
 "nbformat": 4,
 "nbformat_minor": 1
}
