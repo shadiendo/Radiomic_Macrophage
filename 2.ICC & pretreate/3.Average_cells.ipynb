{
 "cells": [
  {
   "cell_type": "code",
   "execution_count": null,
   "metadata": {
    "pycharm": {
     "is_executing": true
    }
   },
   "outputs": [],
   "source": [
    "import pandas as pd\n",
    "import numpy as np"
   ]
  },
  {
   "cell_type": "markdown",
   "metadata": {},
   "source": [
    "# 读取数据"
   ]
  },
  {
   "cell_type": "code",
   "execution_count": null,
   "metadata": {},
   "outputs": [],
   "source": [
    "open_pathA = r'→→TRJ_readerA_dup0.75.csv'\n",
    "open_pathB = r'→→TRJ_readerB_dup0.75.csv'\n",
    "\n",
    "df_A = pd.read_csv(open_pathA,index_col=0)\n",
    "df_B = pd.read_csv(open_pathB,index_col=0)\n",
    "\n",
    "print(f'删除前俩表维度情况'+str(df_A.shape)+str(df_B.shape))"
   ]
  },
  {
   "cell_type": "markdown",
   "metadata": {},
   "source": [
    "# 俩表所有单元格平均"
   ]
  },
  {
   "cell_type": "code",
   "execution_count": null,
   "metadata": {
    "scrolled": true
   },
   "outputs": [],
   "source": [
    "# 将两个人勾画的ROI的表给计算平均\n",
    "df_mean = pd.DataFrame(data=None,columns=df_A.columns,index=df_A.index)\n",
    "for row in df_A.index:\n",
    "    print(f'正在处理被试{row}')\n",
    "    for col in df_A.columns:\n",
    "        cell_A = df_A.loc[row,col]\n",
    "        cell_B = df_B.loc[row,col]\n",
    "        df_mean.loc[row,col] = (cell_A+cell_B)/2\n"
   ]
  },
  {
   "cell_type": "code",
   "execution_count": null,
   "metadata": {},
   "outputs": [],
   "source": [
    "df_mean"
   ]
  },
  {
   "cell_type": "markdown",
   "metadata": {},
   "source": [
    "# 查看想保留的跟想删除的有没有差别"
   ]
  },
  {
   "cell_type": "code",
   "execution_count": null,
   "metadata": {},
   "outputs": [],
   "source": [
    "# 特征重复\n",
    "feature_delete_mutiply = pd.read_csv('→特征重复删除.txt',header=None)[0].tolist()\n",
    "print(f'特征重复删除{len(feature_delete_mutiply)}个')\n",
    "\n",
    "# ICC筛选出的待删特征\n",
    "feature_delete = pd.read_csv('→手动ICC2k删除.txt',header=None)[0].tolist()\n",
    "print(f'ICC2k删除{len(feature_delete)}个')\n",
    "\n",
    "# # 重复筛选出的待删特征\n",
    "# feature_duplicate_delete = pd.read_csv('→特征重复删除.txt',header=None)[0].tolist()\n",
    "# print(f'待删特征{len(feature_duplicate_delete)}个')\n",
    "\n",
    "# 待保留的特征\n",
    "feature_keep = pd.read_csv('→手动保留的特征.txt',header=None)[0].tolist()\n",
    "print(f'待保留特征{len(feature_keep)}个')\n",
    "\n",
    "# feature_delete_final = list((set(feature_delete)|set(feature_duplicate_delete))-set(feature_keep))\n",
    "feature_delete_all = list((set(feature_delete)|set(feature_delete_mutiply))-set(feature_keep))\n",
    "print(f'\\n一共需要删除{len(feature_delete_all)}')\n",
    "\n",
    "features_have = df_mean.columns.values.tolist()\n",
    "feature_delete_final = list(set(features_have)&set(feature_delete_all))\n",
    "print(f'\\n最终待删{len(feature_delete_final)}')"
   ]
  },
  {
   "cell_type": "code",
   "execution_count": null,
   "metadata": {},
   "outputs": [],
   "source": [
    "# 删除\n",
    "df_mean_droped = df_mean.drop(labels=feature_delete_final, axis=1)\n",
    "print(f'删除后维度情况'+str(df_mean_droped.shape))\n",
    "\n",
    "df_tmp = df_mean_droped.copy(deep=True)"
   ]
  },
  {
   "cell_type": "markdown",
   "metadata": {},
   "source": [
    "# 保存"
   ]
  },
  {
   "cell_type": "code",
   "execution_count": null,
   "metadata": {},
   "outputs": [],
   "source": [
    "# 用户输入后缀名\n",
    "save_path = '→→→→radiomics'+str(len(df_tmp.columns))+'_pretreated.csv'\n",
    "\n",
    "# 保存\n",
    "df_tmp.to_csv(save_path, index=True)\n",
    "print(f'finish.\\n{save_path}')"
   ]
  }
 ],
 "metadata": {
  "kernelspec": {
   "display_name": "Python 3",
   "language": "python",
   "name": "python3"
  },
  "language_info": {
   "codemirror_mode": {
    "name": "ipython",
    "version": 3
   },
   "file_extension": ".py",
   "mimetype": "text/x-python",
   "name": "python",
   "nbconvert_exporter": "python",
   "pygments_lexer": "ipython3",
   "version": "3.7.6"
  },
  "toc": {
   "base_numbering": 1,
   "nav_menu": {},
   "number_sections": true,
   "sideBar": true,
   "skip_h1_title": false,
   "title_cell": "Table of Contents",
   "title_sidebar": "Contents",
   "toc_cell": false,
   "toc_position": {
    "height": "calc(100% - 180px)",
    "left": "10px",
    "top": "150px",
    "width": "260.039px"
   },
   "toc_section_display": true,
   "toc_window_display": true
  }
 },
 "nbformat": 4,
 "nbformat_minor": 1
}
