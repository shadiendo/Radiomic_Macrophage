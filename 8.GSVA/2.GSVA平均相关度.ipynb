{
 "cells": [
  {
   "cell_type": "code",
   "execution_count": 2,
   "metadata": {},
   "outputs": [],
   "source": [
    "import pandas as pd\n",
    "import numpy as np\n",
    "import itertools\n",
    "from scipy import stats\n",
    "import string\n",
    "from tqdm import tqdm\n",
    "import os"
   ]
  },
  {
   "cell_type": "markdown",
   "metadata": {},
   "source": [
    "# 读取固有"
   ]
  },
  {
   "cell_type": "code",
   "execution_count": 3,
   "metadata": {},
   "outputs": [],
   "source": [
    "# 读取树\n",
    "GO_terms = pd.read_csv('GSVA_Term_ID对应表.csv',header=0,index_col=0)\n",
    "# GO_terms\n",
    "\n",
    "# 读取记录目标\n",
    "target_tree = pd.read_csv('GO目标分级.csv',header=0,index_col=0)\n",
    "# target_tree"
   ]
  },
  {
   "cell_type": "markdown",
   "metadata": {},
   "source": [
    "# 设置循环素材"
   ]
  },
  {
   "cell_type": "code",
   "execution_count": 4,
   "metadata": {},
   "outputs": [],
   "source": [
    "def main(p_ret_file_name,cor_ret_file_name,p_shreshold,open_file_name):\n",
    "    # p_ret_file_name = '../2.预处理：GSVA与RF相关二维表/JSPH/→JSPH_GSVA_二维_可信度表.csv'\n",
    "    # cor_ret_file_name = '../2.预处理：GSVA与RF相关二维表/JSPH/→JSPH_GSVA_二维_相关系数表.csv'\n",
    "    # p_shreshold = 0.05\n",
    "    # open_file_name = 'demo'\n",
    "    \n",
    "    # 读取前一步的结果\n",
    "    p_ret = pd.read_csv(p_ret_file_name,header=0,index_col=0)\n",
    "    cor_ret = pd.read_csv(cor_ret_file_name,header=0,index_col=0)\n",
    "\n",
    "    # 检查前一步中的GSVA条目在不在 GO拓扑结构树中\n",
    "    nameList = GO_terms.index.tolist()\n",
    "    orphan = []\n",
    "    for i in p_ret.index.tolist():\n",
    "        if i not in nameList:\n",
    "            orphan.append(i)\n",
    "\n",
    "    print(f'打开的p_ret和cor_ret有{len(orphan)}个在GO拓扑树中没找到')\n",
    "    \n",
    "    # 在 预结果表 中添加p_ret的列索引\n",
    "    feature = p_ret.columns.tolist()\n",
    "    for i in feature:\n",
    "        target_tree[i] = 0\n",
    "\n",
    "    \n",
    "    # 预创建结果表\n",
    "    ret1 = target_tree.copy(deep=True)\n",
    "    ret2 = target_tree.copy(deep=True)\n",
    "    ret3 = target_tree.copy(deep=True)\n",
    "    \n",
    "    # 开始正经处理\n",
    "    # 循环判断每一个特征，得到  计数表\n",
    "    for iteration in tqdm(range(len(feature))):\n",
    "        f = feature[iteration]\n",
    "\n",
    "        for i in p_ret.index:\n",
    "            # 一旦满足条件，p<0.05，寻找该term在大表中的位置，并判断其是否在目标层级中，然后，把其添加到结果列表里\n",
    "            if p_ret[f][i] <= p_shreshold:\n",
    "                json = GO_terms['class2level'][i]\n",
    "\n",
    "                if json!='not_find':\n",
    "                    json = eval(json)\n",
    "                    # 接下来就是判断目标计数表中的每一项的ID，在不在JSON中，在就+1\n",
    "                    for item in target_tree.index:\n",
    "                        if item in json:\n",
    "\n",
    "                            # ---------------------------------------------\n",
    "                            # 得到  计数表\n",
    "                            ret1.loc[item,f] = ret1[f][item]+1\n",
    "\n",
    "                            # ---------------------------------------------\n",
    "                            # 得到  平均相关程度表\n",
    "                            if ret2.loc[item,f]==0:\n",
    "                                ret2.loc[item,f] = cor_ret[f][i]\n",
    "                            # 如果已经有值了，比如原来相关度是0.3，新相关度是-0.2，那么最后的相关度是 (0.3+|-0.2|)/2\n",
    "                            else:\n",
    "                                ret2.loc[item,f] = (ret2[f][item]+ abs(cor_ret[f][i]))/2\n",
    "\n",
    "                            # ---------------------------------------------\n",
    "                            # 得到  平均p值表\n",
    "                            if ret3.loc[item,f]==0:\n",
    "                                ret3.loc[item,f] = p_ret[f][i]\n",
    "                            else:\n",
    "                                ret3.loc[item,f] = (ret3[f][item]+ abs(p_ret[f][i]))/2\n",
    "                                \n",
    "                                \n",
    "    # 获取想要保存的目录                            \n",
    "    roooooot_len = len(p_ret_file_name) - len(p_ret_file_name.split(\"/\")[-1])\n",
    "    roooooot = p_ret_file_name[:roooooot_len]\n",
    "    \n",
    "    # 将所有结果保存\n",
    "    save_name1 = '→'+open_file_name+'_p'+str(p_shreshold)+'_结果① 分类计数表.csv'\n",
    "    save_name2 = '→'+open_file_name+'_p'+str(p_shreshold)+'_结果② 分类平均相关度表.csv'\n",
    "    save_name3 = '→'+open_file_name+'_p'+str(p_shreshold)+'_结果③ 分类平均p值表.csv'\n",
    "\n",
    "    ret1.to_csv(os.path.join(roooooot,save_name1), index=True)\n",
    "    ret2.to_csv(os.path.join(roooooot,save_name2), index=True)\n",
    "    ret3.to_csv(os.path.join(roooooot,save_name3), index=True)"
   ]
  },
  {
   "cell_type": "code",
   "execution_count": 5,
   "metadata": {},
   "outputs": [
    {
     "name": "stdout",
     "output_type": "stream",
     "text": [
      "打开的p_ret和cor_ret有0个在GO拓扑树中没找到\n"
     ]
    },
    {
     "name": "stderr",
     "output_type": "stream",
     "text": [
      "100%|██████████████████████████████████████████████████████████████████████████████████| 20/20 [00:03<00:00,  5.54it/s]\n"
     ]
    }
   ],
   "source": [
    "main(r'../→GSVA后数据/JSPH/GSVA_JSPH_二维_可信度表.csv',\n",
    "     r'../→GSVA后数据/JSPH/GSVA_JSPH_二维_相关系数表.csv',\n",
    "     0.05,\n",
    "     'JSPH'\n",
    "    )"
   ]
  },
  {
   "cell_type": "code",
   "execution_count": 6,
   "metadata": {},
   "outputs": [
    {
     "name": "stdout",
     "output_type": "stream",
     "text": [
      "打开的p_ret和cor_ret有0个在GO拓扑树中没找到\n"
     ]
    },
    {
     "name": "stderr",
     "output_type": "stream",
     "text": [
      "100%|██████████████████████████████████████████████████████████████████████████████████| 20/20 [00:21<00:00,  1.05s/it]\n"
     ]
    }
   ],
   "source": [
    "main(r'../→GSVA后数据/RBRT/GSVA_RBRT_二维_可信度表.csv',\n",
    "     r'../→GSVA后数据/RBRT/GSVA_RBRT_二维_相关系数表.csv',\n",
    "     0.05,\n",
    "     'RBRT'\n",
    "    )"
   ]
  },
  {
   "cell_type": "code",
   "execution_count": 7,
   "metadata": {},
   "outputs": [
    {
     "name": "stdout",
     "output_type": "stream",
     "text": [
      "打开的p_ret和cor_ret有0个在GO拓扑树中没找到\n"
     ]
    },
    {
     "name": "stderr",
     "output_type": "stream",
     "text": [
      "100%|██████████████████████████████████████████████████████████████████████████████████| 20/20 [00:04<00:00,  4.75it/s]\n"
     ]
    }
   ],
   "source": [
    "main(r'../→GSVA后数据/RBRT_GBM/GSVA_RBRT_GBM_二维_可信度表.csv',\n",
    "     r'../→GSVA后数据/RBRT_GBM/GSVA_RBRT_GBM_二维_相关系数表.csv',\n",
    "     0.05,\n",
    "     'RBRT_GBM'\n",
    "    )"
   ]
  },
  {
   "cell_type": "code",
   "execution_count": 8,
   "metadata": {},
   "outputs": [
    {
     "name": "stdout",
     "output_type": "stream",
     "text": [
      "打开的p_ret和cor_ret有0个在GO拓扑树中没找到\n"
     ]
    },
    {
     "name": "stderr",
     "output_type": "stream",
     "text": [
      "100%|██████████████████████████████████████████████████████████████████████████████████| 20/20 [00:09<00:00,  2.18it/s]\n"
     ]
    }
   ],
   "source": [
    "main(r'../→GSVA后数据/RBRT_LGG/GSVA_RBRT_LGG_二维_可信度表.csv',\n",
    "     r'../→GSVA后数据/RBRT_LGG/GSVA_RBRT_LGG_二维_相关系数表.csv',\n",
    "     0.05,\n",
    "     'RBRT_LGG'\n",
    "    )"
   ]
  },
  {
   "cell_type": "code",
   "execution_count": 9,
   "metadata": {},
   "outputs": [
    {
     "name": "stdout",
     "output_type": "stream",
     "text": [
      "打开的p_ret和cor_ret有0个在GO拓扑树中没找到\n"
     ]
    },
    {
     "name": "stderr",
     "output_type": "stream",
     "text": [
      "100%|██████████████████████████████████████████████████████████████████████████████████| 20/20 [00:20<00:00,  1.00s/it]\n"
     ]
    }
   ],
   "source": [
    "main(r'../→GSVA后数据/TCGA/GSVA_TCGA_二维_可信度表.csv',\n",
    "     r'../→GSVA后数据/TCGA/GSVA_TCGA_二维_相关系数表.csv',\n",
    "     0.05,\n",
    "     'TCGA'\n",
    "    )"
   ]
  },
  {
   "cell_type": "code",
   "execution_count": 10,
   "metadata": {},
   "outputs": [
    {
     "name": "stdout",
     "output_type": "stream",
     "text": [
      "打开的p_ret和cor_ret有0个在GO拓扑树中没找到\n"
     ]
    },
    {
     "name": "stderr",
     "output_type": "stream",
     "text": [
      "100%|██████████████████████████████████████████████████████████████████████████████████| 20/20 [00:06<00:00,  3.08it/s]\n"
     ]
    }
   ],
   "source": [
    "main(r'../→GSVA后数据/TCGA_GBM/GSVA_TCGA_GBM_二维_可信度表.csv',\n",
    "     r'../→GSVA后数据/TCGA_GBM/GSVA_TCGA_GBM_二维_相关系数表.csv',\n",
    "     0.05,\n",
    "     'TCGA_GBM'\n",
    "    )"
   ]
  },
  {
   "cell_type": "code",
   "execution_count": 11,
   "metadata": {},
   "outputs": [
    {
     "name": "stdout",
     "output_type": "stream",
     "text": [
      "打开的p_ret和cor_ret有0个在GO拓扑树中没找到\n"
     ]
    },
    {
     "name": "stderr",
     "output_type": "stream",
     "text": [
      "100%|██████████████████████████████████████████████████████████████████████████████████| 20/20 [00:06<00:00,  3.11it/s]\n"
     ]
    }
   ],
   "source": [
    "main(r'../→GSVA后数据/TCGA_LGG/GSVA_TCGA_LGG_二维_可信度表.csv',\n",
    "     r'../→GSVA后数据/TCGA_LGG/GSVA_TCGA_LGG_二维_相关系数表.csv',\n",
    "     0.05,\n",
    "     'TCGA_LGG'\n",
    "    )"
   ]
  },
  {
   "cell_type": "code",
   "execution_count": 12,
   "metadata": {},
   "outputs": [
    {
     "name": "stdout",
     "output_type": "stream",
     "text": [
      "打开的p_ret和cor_ret有0个在GO拓扑树中没找到\n"
     ]
    },
    {
     "name": "stderr",
     "output_type": "stream",
     "text": [
      "100%|██████████████████████████████████████████████████████████████████████████████████| 20/20 [00:21<00:00,  1.08s/it]\n"
     ]
    }
   ],
   "source": [
    "main(r'../→GSVA后数据/ALL/GSVA_ALL_二维_可信度表.csv',\n",
    "     r'../→GSVA后数据/ALL/GSVA_ALL_二维_相关系数表.csv',\n",
    "     0.05,\n",
    "     'ALL'\n",
    "    )"
   ]
  },
  {
   "cell_type": "code",
   "execution_count": 13,
   "metadata": {},
   "outputs": [
    {
     "name": "stdout",
     "output_type": "stream",
     "text": [
      "打开的p_ret和cor_ret有0个在GO拓扑树中没找到\n"
     ]
    },
    {
     "name": "stderr",
     "output_type": "stream",
     "text": [
      "100%|██████████████████████████████████████████████████████████████████████████████████| 20/20 [00:14<00:00,  1.34it/s]\n"
     ]
    }
   ],
   "source": [
    "main(r'../→GSVA后数据/ALL_LGG/GSVA_ALL_LGG_二维_可信度表.csv',\n",
    "     r'../→GSVA后数据/ALL_LGG/GSVA_ALL_LGG_二维_相关系数表.csv',\n",
    "     0.05,\n",
    "     'ALL_LGG'\n",
    "    )"
   ]
  },
  {
   "cell_type": "code",
   "execution_count": 14,
   "metadata": {},
   "outputs": [
    {
     "name": "stdout",
     "output_type": "stream",
     "text": [
      "打开的p_ret和cor_ret有0个在GO拓扑树中没找到\n"
     ]
    },
    {
     "name": "stderr",
     "output_type": "stream",
     "text": [
      "100%|██████████████████████████████████████████████████████████████████████████████████| 20/20 [00:01<00:00, 18.28it/s]\n"
     ]
    }
   ],
   "source": [
    "main(r'../→GSVA后数据/ALL_GBM/GSVA_ALL_GBM_二维_可信度表.csv',\n",
    "     r'../→GSVA后数据/ALL_GBM/GSVA_ALL_GBM_二维_相关系数表.csv',\n",
    "     0.05,\n",
    "     'ALL_GBM'\n",
    "    )"
   ]
  }
 ],
 "metadata": {
  "kernelspec": {
   "display_name": "pyradiomics",
   "language": "python",
   "name": "pyradiomics"
  },
  "language_info": {
   "codemirror_mode": {
    "name": "ipython",
    "version": 3
   },
   "file_extension": ".py",
   "mimetype": "text/x-python",
   "name": "python",
   "nbconvert_exporter": "python",
   "pygments_lexer": "ipython3",
   "version": "3.8.16"
  }
 },
 "nbformat": 4,
 "nbformat_minor": 5
}
