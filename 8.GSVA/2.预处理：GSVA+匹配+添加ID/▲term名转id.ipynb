{
 "cells": [
  {
   "cell_type": "code",
   "execution_count": null,
   "metadata": {},
   "outputs": [],
   "source": [
    "import pandas as pd\n",
    "import numpy as np"
   ]
  },
  {
   "cell_type": "code",
   "execution_count": null,
   "metadata": {
    "scrolled": false
   },
   "outputs": [],
   "source": [
    "# 读取前一步的结果\n",
    "open_file = 'GSVA_tcgaLgg.txt'\n",
    "GSVA_orig = pd.read_csv(open_file,sep='\\t',header=0,index_col=None)\n",
    "GSVA_orig"
   ]
  },
  {
   "cell_type": "code",
   "execution_count": null,
   "metadata": {
    "scrolled": false
   },
   "outputs": [],
   "source": [
    "# 把id转换一下\n",
    "for i in range(len(GSVA_orig.index)):\n",
    "    GSVA_orig.loc[i,'id'] = str(GSVA_orig['id'][i])[5:]\n",
    "GSVA_orig"
   ]
  },
  {
   "cell_type": "markdown",
   "metadata": {},
   "source": [
    "# 读取对应表"
   ]
  },
  {
   "cell_type": "code",
   "execution_count": null,
   "metadata": {},
   "outputs": [],
   "source": [
    "# 读取树\n",
    "GO_terms = pd.read_csv('▲GSVA_Term_ID对应表.csv',header=0,index_col=None)\n",
    "GO_terms"
   ]
  },
  {
   "cell_type": "code",
   "execution_count": null,
   "metadata": {},
   "outputs": [],
   "source": [
    "terms2Bclass = GSVA_orig['id'].tolist()\n",
    "nameList = GO_terms['Term_name_in_gmt'].tolist()\n",
    "orphan = []\n",
    "\n",
    "for terms in terms2Bclass:\n",
    "    if terms not in nameList:\n",
    "        orphan.append(terms)\n",
    "\n",
    "print(f'{len(terms2Bclass)}个里面有{str(len(orphan))}个在拓扑树里没找到')\n",
    "\n",
    "orphan"
   ]
  },
  {
   "cell_type": "markdown",
   "metadata": {},
   "source": [
    "# 添加一列GO ID"
   ]
  },
  {
   "cell_type": "code",
   "execution_count": null,
   "metadata": {},
   "outputs": [],
   "source": [
    "GO_terms = GO_terms.set_index('Term_name_in_gmt')\n",
    "GO_terms"
   ]
  },
  {
   "cell_type": "code",
   "execution_count": null,
   "metadata": {},
   "outputs": [],
   "source": [
    "GSVA_ret = GSVA_orig.copy(deep=True)\n",
    "GO_ID_list = []\n",
    "for i in range(len(GSVA_ret.index.tolist())):\n",
    "    orig = GSVA_ret.loc[i,'id']\n",
    "    new = GO_terms.loc[orig,'ID']\n",
    "    GO_ID_list.append(new)\n",
    "\n",
    "GSVA_ret.insert(0,'GO_ID',GO_ID_list)\n",
    "GSVA_ret"
   ]
  },
  {
   "cell_type": "markdown",
   "metadata": {},
   "source": [
    "# 保存"
   ]
  },
  {
   "cell_type": "code",
   "execution_count": null,
   "metadata": {},
   "outputs": [],
   "source": [
    "# 将所有结果保存\n",
    "save_file = '★'+open_file[:-4]+'_添加GO_ID.csv'\n",
    "GSVA_ret.to_csv(save_file, index=False)\n",
    "print(f'结果保存至{save_file}')"
   ]
  }
 ],
 "metadata": {
  "kernelspec": {
   "display_name": "kernel_pyradiomics",
   "language": "python",
   "name": "kernel_pyradiomics"
  },
  "language_info": {
   "codemirror_mode": {
    "name": "ipython",
    "version": 3
   },
   "file_extension": ".py",
   "mimetype": "text/x-python",
   "name": "python",
   "nbconvert_exporter": "python",
   "pygments_lexer": "ipython3",
   "version": "3.7.15"
  }
 },
 "nbformat": 4,
 "nbformat_minor": 5
}
