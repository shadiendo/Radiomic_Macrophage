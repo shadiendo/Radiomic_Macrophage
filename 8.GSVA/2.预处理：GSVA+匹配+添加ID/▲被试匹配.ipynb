{
 "cells": [
  {
   "cell_type": "code",
   "execution_count": null,
   "metadata": {},
   "outputs": [],
   "source": [
    "import pandas as pd\n",
    "import numpy as np"
   ]
  },
  {
   "cell_type": "code",
   "execution_count": null,
   "metadata": {
    "scrolled": true
   },
   "outputs": [],
   "source": [
    "# 读取病人列表\n",
    "patlist = pd.read_csv('▲patlist.txt',sep='\\t',header=None,index_col=0).index.tolist()\n",
    "print(len(patlist))"
   ]
  },
  {
   "cell_type": "markdown",
   "metadata": {},
   "source": [
    "# 两个GSVA表合并"
   ]
  },
  {
   "cell_type": "code",
   "execution_count": null,
   "metadata": {},
   "outputs": [],
   "source": [
    "# 读取树\n",
    "GSVA_1 = pd.read_csv('★GSVA_JSPH_exp_A_添加GO_ID.csv',header=0,index_col=0)\n",
    "GSVA_2 = pd.read_csv('★GSVA_JSPH_exp_B_添加GO_ID.csv',header=0,index_col=0)"
   ]
  },
  {
   "cell_type": "code",
   "execution_count": null,
   "metadata": {},
   "outputs": [],
   "source": [
    "GSVA_2"
   ]
  },
  {
   "cell_type": "code",
   "execution_count": null,
   "metadata": {},
   "outputs": [],
   "source": [
    "term1 = GSVA_1.index.tolist()\n",
    "term2 = GSVA_2.index.tolist()\n",
    "term_in = list(set(term1) & set(term2))\n",
    "print(f'{len(term1)},{len(term2)},交集{len(term_in)}')"
   ]
  },
  {
   "cell_type": "code",
   "execution_count": null,
   "metadata": {},
   "outputs": [],
   "source": [
    "GSVA_1 = GSVA_1.T[term_in].T\n",
    "GSVA_2 = GSVA_2.T[term_in].T"
   ]
  },
  {
   "cell_type": "code",
   "execution_count": null,
   "metadata": {},
   "outputs": [],
   "source": [
    "GSVA = pd.concat([GSVA_1,GSVA_2],axis=1)\n",
    "GSVA"
   ]
  },
  {
   "cell_type": "code",
   "execution_count": null,
   "metadata": {},
   "outputs": [],
   "source": [
    "GSVA.to_csv('★JSPH_GSVA.csv', index=True)\n",
    "print(f'已经保存')"
   ]
  },
  {
   "cell_type": "markdown",
   "metadata": {},
   "source": [
    "# 筛人"
   ]
  },
  {
   "cell_type": "code",
   "execution_count": null,
   "metadata": {},
   "outputs": [],
   "source": [
    "open_file = '↑GSVA_tcgaLgg_添加GO_ID.csv'\n",
    "GSVA = pd.read_csv(open_file,header=0,index_col=0)\n",
    "GSVA"
   ]
  },
  {
   "cell_type": "code",
   "execution_count": null,
   "metadata": {},
   "outputs": [],
   "source": [
    "pats = GSVA.columns.tolist()\n",
    "pats_in = list(set(pats) & set(patlist))\n",
    "print(f'{len(pats)},{len(patlist)},交集{len(pats_in)}')"
   ]
  },
  {
   "cell_type": "code",
   "execution_count": null,
   "metadata": {},
   "outputs": [],
   "source": [
    "GSVA = GSVA[pats_in]\n",
    "GSVA"
   ]
  },
  {
   "cell_type": "markdown",
   "metadata": {},
   "source": [
    "# 保存"
   ]
  },
  {
   "cell_type": "code",
   "execution_count": null,
   "metadata": {},
   "outputs": [],
   "source": [
    "# 将所有结果保存\n",
    "save_file = '★'+open_file[:-4]+'_匹配.csv'\n",
    "GSVA.to_csv(save_file, index=True)\n",
    "print(f'结果保存至{save_file}')"
   ]
  }
 ],
 "metadata": {
  "kernelspec": {
   "display_name": "kernel_pyradiomics",
   "language": "python",
   "name": "kernel_pyradiomics"
  },
  "language_info": {
   "codemirror_mode": {
    "name": "ipython",
    "version": 3
   },
   "file_extension": ".py",
   "mimetype": "text/x-python",
   "name": "python",
   "nbconvert_exporter": "python",
   "pygments_lexer": "ipython3",
   "version": "3.7.15"
  }
 },
 "nbformat": 4,
 "nbformat_minor": 5
}
